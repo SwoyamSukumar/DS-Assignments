{
  "nbformat": 4,
  "nbformat_minor": 0,
  "metadata": {
    "colab": {
      "provenance": []
    },
    "kernelspec": {
      "name": "python3",
      "display_name": "Python 3"
    },
    "language_info": {
      "name": "python"
    }
  },
  "cells": [
    {
      "cell_type": "code",
      "source": [
        "# Submitted by Swoyam Sukumar (swoyam.sukumar@gmail.com)"
      ],
      "metadata": {
        "id": "A1XWygjfOFny"
      },
      "execution_count": null,
      "outputs": []
    },
    {
      "cell_type": "markdown",
      "source": [
        "Q1> Create an example of :\n",
        "1) list \n",
        "2) touple\n",
        "3) set \n",
        "4) dictionary"
      ],
      "metadata": {
        "id": "g395R2i64gSr"
      }
    },
    {
      "cell_type": "code",
      "source": [
        "#Q1> Create an example of : 1) list  2) touple 3) set  4) dictionary\n",
        "list=[1,2,3,\"hi\"]               # list -> ordered collection of datypes ,[],mutable\n",
        "touple=(1,2,3,\"hi\")             # Tuple -> Ordered collection of datatypes,(),immutable\n",
        "set={1,2,3,4}                   # set -> is an unordered collection of datatypes ,{} ,Doesnt contain an duplicate values,mutable\n",
        "dic={1:\"A\",\n",
        "     2:\"B\",\n",
        "     3:\"C\"}                     # Dictionary ->key pair(key and values),{},mutable\n",
        "print(list,type(list))\n",
        "print(touple,type(touple))\n",
        "print(set,type(set)) \n",
        "print(dic,type(dic))"
      ],
      "metadata": {
        "colab": {
          "base_uri": "https://localhost:8080/"
        },
        "id": "DIwsANNR4pgh",
        "outputId": "d489efe0-b938-46a2-fc93-d04810c87107"
      },
      "execution_count": 72,
      "outputs": [
        {
          "output_type": "stream",
          "name": "stdout",
          "text": [
            "[1, 2, 3, 'hi'] <class 'list'>\n",
            "(1, 2, 3, 'hi') <class 'tuple'>\n",
            "{1, 2, 3, 4} <class 'set'>\n",
            "{1: 'A', 2: 'B', 3: 'C'} <class 'dict'>\n"
          ]
        }
      ]
    },
    {
      "cell_type": "markdown",
      "source": [
        "Q2> What are r+, w+, a+ models give examples  "
      ],
      "metadata": {
        "id": "abLTnl0l4fTr"
      }
    },
    {
      "cell_type": "markdown",
      "source": [
        "After creation of s.txt content present in s.txt is \"sample txt\""
      ],
      "metadata": {
        "id": "-Uj3EuLjIoir"
      }
    },
    {
      "cell_type": "code",
      "source": [
        "#Q2> What are r+, w+, a+ models give examples  \n",
        "a=open(\"s.txt\",\"r+\") # r+ is used of reading first then writing\n",
        "print(a.tell())      # tell() is used to find out the position of the cursor  \n",
        "data=print(a.read())\n",
        "print(a.tell())\n",
        "a.write(\" + txt written through write\")\n",
        "print(a.tell())\n",
        "a.seek(0)            # used to move the cursor to initial 0 position\n",
        "print(a.read())\n",
        "a.close()"
      ],
      "metadata": {
        "colab": {
          "base_uri": "https://localhost:8080/"
        },
        "id": "yLqikSYP-kYM",
        "outputId": "f3ec1b9a-e9f8-49f2-e497-265022fd3152"
      },
      "execution_count": 70,
      "outputs": [
        {
          "output_type": "stream",
          "name": "stdout",
          "text": [
            "0\n",
            "sample txt\n",
            "10\n",
            "38\n",
            "sample txt + txt written through write\n"
          ]
        }
      ]
    },
    {
      "cell_type": "code",
      "source": [
        "a=open(\"s2.txt\",\"w+\") # after this line the sample txt is deleted w+ is used to write first then read\n",
        "print(a.tell())\n",
        "a.write(\"txt written through write\")\n",
        "print(a.tell())\n",
        "a.seek(0)\n",
        "print(a.read())\n",
        "print(a.tell())"
      ],
      "metadata": {
        "colab": {
          "base_uri": "https://localhost:8080/"
        },
        "id": "pPkSJjMq_LWU",
        "outputId": "ab2b56d4-d3c9-4b25-cee7-2d0eb3ca766e"
      },
      "execution_count": 77,
      "outputs": [
        {
          "output_type": "stream",
          "name": "stdout",
          "text": [
            "0\n",
            "25\n",
            "txt written through write\n",
            "25\n"
          ]
        }
      ]
    },
    {
      "cell_type": "code",
      "source": [
        "a=open(\"s3.txt\",\"a+\") # a+ is used for appending then reading\n",
        "print(a.tell())\n",
        "a.write(\" + txt written through write\")\n",
        "print(a.tell())\n",
        "a.seek(0)\n",
        "print(a.read())\n",
        "print(a.tell())"
      ],
      "metadata": {
        "colab": {
          "base_uri": "https://localhost:8080/"
        },
        "id": "UcnhVyxSMA75",
        "outputId": "f8bfe63a-bc33-49b8-a457-67769bc29982"
      },
      "execution_count": 79,
      "outputs": [
        {
          "output_type": "stream",
          "name": "stdout",
          "text": [
            "10\n",
            "38\n",
            "sample txt + txt written through write\n",
            "38\n"
          ]
        }
      ]
    }
  ]
}